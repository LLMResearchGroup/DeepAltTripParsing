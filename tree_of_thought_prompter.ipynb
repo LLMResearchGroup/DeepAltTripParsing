{
 "cells": [
  {
   "cell_type": "code",
   "execution_count": 10,
   "metadata": {},
   "outputs": [],
   "source": [
    "import networkx as nx\n",
    "import csv\n",
    "\n",
    "file_path_mapping = {\n",
    "    \"CaliAdv\": \"Dataset\\\\traj-caliAdv.csv\",\n",
    "    \"DisHolly\": \"Dataset\\\\traj-disHolly.csv\",\n",
    "    \"Disland\": \"Dataset\\\\traj-disland.csv\",\n",
    "    \"Edin\": \"Dataset\\\\traj-Edin.csv\",\n",
    "    \"Epcot\": \"Dataset\\\\traj-epcot.csv\",\n",
    "    \"Glas\": \"Dataset\\\\traj-Glas.csv\",\n",
    "    \"MagicK\": \"Dataset\\\\traj-MagicK.csv\",\n",
    "    \"Melb\": \"Dataset\\\\traj-Melb.csv\",\n",
    "    \"Osak\": \"Dataset\\\\traj-Osak.csv\",\n",
    "    \"Toro\": \"Dataset\\\\traj-Toro.csv\"\n",
    "}\n",
    "\n",
    "def dataset_parse(pathname):\n",
    "    trajectory_data = {}\n",
    "\n",
    "    with open(pathname, 'r') as csvfile:\n",
    "        reader = csv.DictReader(csvfile)\n",
    "        \n",
    "        for row in reader:\n",
    "            traj_id = int(row['trajID'])\n",
    "            poi_id = int(row['poiID'])\n",
    "            \n",
    "            if traj_id not in trajectory_data:\n",
    "                trajectory_data[traj_id] = []\n",
    "            \n",
    "            trajectory_data[traj_id].append(poi_id)\n",
    "\n",
    "    for traj_id, poi_ids in list(trajectory_data.items()):\n",
    "        if len(poi_ids) < 3:\n",
    "            del trajectory_data[traj_id]\n",
    "    \n",
    "    trajectory_data = list(trajectory_data.items())\n",
    "    paths = [data[1] for data in trajectory_data]\n",
    "    weightedG = nx.Graph()\n",
    "    for path in paths:\n",
    "        for u, v in zip(path, path[1:]):\n",
    "            if weightedG.has_edge(u, v):\n",
    "                weightedG[u][v]['weight'] += 1\n",
    "            else:\n",
    "                weightedG.add_edge(u, v, weight=1)\n",
    "\n",
    "    return (weightedG, paths)"
   ]
  },
  {
   "cell_type": "code",
   "execution_count": 11,
   "metadata": {},
   "outputs": [
    {
     "name": "stdout",
     "output_type": "stream",
     "text": [
      "Shortest path between 1 and 2: [1, 2]\n"
     ]
    }
   ],
   "source": [
    "graph, paths = dataset_parse(file_path_mapping[\"DisHolly\"])\n",
    "# print(\"Graph: \", graph)\n",
    "# print(\"Paths: \", paths)\n",
    "\n",
    "source = 1\n",
    "destination = 2\n",
    "def bfs_shortest_path(graph, start, end):\n",
    "    queue = [[start]]\n",
    "    visited = set()\n",
    "\n",
    "    while queue:\n",
    "        path = queue.pop(0)\n",
    "        node = path[-1]\n",
    "\n",
    "        if node in visited:\n",
    "            continue\n",
    "\n",
    "        neighbors = graph.neighbors(node)\n",
    "        for neighbor in neighbors:\n",
    "            new_path = list(path)\n",
    "            new_path.append(neighbor)\n",
    "            queue.append(new_path)\n",
    "\n",
    "            if neighbor == end:\n",
    "                return new_path\n",
    "\n",
    "        visited.add(node)\n",
    "\n",
    "    return None\n",
    "\n",
    "shortest_path = bfs_shortest_path(graph, source, destination)\n",
    "if shortest_path:\n",
    "    print(f\"Shortest path between {source} and {destination}: {shortest_path}\")\n",
    "else:\n",
    "    print(f\"No path found between {source} and {destination}\")"
   ]
  },
  {
   "cell_type": "code",
   "execution_count": 24,
   "metadata": {},
   "outputs": [
    {
     "name": "stdout",
     "output_type": "stream",
     "text": [
      "Random path between 1 and 6: [1, 12, 13, 7, 10, 3, 2, 9, 11, 8, 6] with popularity 263\n"
     ]
    }
   ],
   "source": [
    "import random\n",
    "graph, paths = dataset_parse(file_path_mapping[\"DisHolly\"])\n",
    "\n",
    "# Define the source and destination nodes\n",
    "source = 1\n",
    "destination = 6\n",
    "\n",
    "# Perform a random walk to generate a random path\n",
    "def random_walk(graph, start, end, max_steps=1000):\n",
    "    path = [start]\n",
    "    current_node = start\n",
    "\n",
    "    for _ in range(max_steps):\n",
    "        neighbors = list(graph.neighbors(current_node))\n",
    "        valid_neighbors = [neighbor for neighbor in neighbors if neighbor not in path]\n",
    "\n",
    "        if not valid_neighbors:\n",
    "            break\n",
    "\n",
    "        next_node = random.choice(valid_neighbors)\n",
    "        path.append(next_node)\n",
    "        current_node = next_node\n",
    "\n",
    "        if current_node == end:\n",
    "            return path\n",
    "\n",
    "    return None\n",
    "\n",
    "# Generate a random path\n",
    "random_path = random_walk(graph, source, destination)\n",
    "\n",
    "def calculate_popularity(graph, random_path):\n",
    "    edges = [(u, v) for u, v in zip(random_path, random_path[1:])]\n",
    "    popularity = sum([graph[edge[0]][edge[1]]['weight'] for edge in edges])\n",
    "    return popularity\n",
    "\n",
    "if random_path:\n",
    "    print(f\"Random path between {source} and {destination}: {random_path} with popularity {calculate_popularity(graph, random_path)}\")\n",
    "else:\n",
    "    print(f\"No path found between {source} and {destination}\")"
   ]
  },
  {
   "cell_type": "code",
   "execution_count": null,
   "metadata": {},
   "outputs": [],
   "source": []
  }
 ],
 "metadata": {
  "kernelspec": {
   "display_name": "Python 3",
   "language": "python",
   "name": "python3"
  },
  "language_info": {
   "codemirror_mode": {
    "name": "ipython",
    "version": 3
   },
   "file_extension": ".py",
   "mimetype": "text/x-python",
   "name": "python",
   "nbconvert_exporter": "python",
   "pygments_lexer": "ipython3",
   "version": "3.10.7"
  },
  "orig_nbformat": 4
 },
 "nbformat": 4,
 "nbformat_minor": 2
}
