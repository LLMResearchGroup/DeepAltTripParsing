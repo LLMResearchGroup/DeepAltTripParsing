{
 "cells": [
  {
   "cell_type": "code",
   "execution_count": 7,
   "metadata": {},
   "outputs": [],
   "source": [
    "file_path_mapping = {\n",
    "    \"CaliAdv\": \"Dataset\\\\traj-caliAdv.csv\",\n",
    "    \"DisHolly\": \"Dataset\\\\traj-disHolly.csv\",\n",
    "    \"Disland\": \"Dataset\\\\traj-disland.csv\",\n",
    "    \"Edin\": \"Dataset\\\\traj-Edin.csv\",\n",
    "    \"Epcot\": \"Dataset\\\\traj-epcot.csv\",\n",
    "    \"Glas\": \"Dataset\\\\traj-Glas.csv\",\n",
    "    \"MagicK\": \"Dataset\\\\traj-MagicK.csv\",\n",
    "    \"Melb\": \"Dataset\\\\traj-Melb.csv\",\n",
    "    \"Osak\": \"Dataset\\\\traj-Osak.csv\",\n",
    "    \"Toro\": \"Dataset\\\\traj-Toro.csv\"\n",
    "}\n",
    "\n"
   ]
  },
  {
   "cell_type": "code",
   "execution_count": 8,
   "metadata": {},
   "outputs": [],
   "source": [
    "import csv\n",
    "\n",
    "def parse_data(pathname):\n",
    "    trajectory_data = {}\n",
    "\n",
    "    with open(pathname, 'r') as csvfile:\n",
    "        reader = csv.DictReader(csvfile)\n",
    "        \n",
    "        for row in reader:\n",
    "            traj_id = int(row['trajID'])\n",
    "            poi_id = int(row['poiID'])\n",
    "            \n",
    "            if traj_id not in trajectory_data:\n",
    "                trajectory_data[traj_id] = []\n",
    "            \n",
    "            trajectory_data[traj_id].append(poi_id)\n",
    "\n",
    "    for traj_id, poi_ids in list(trajectory_data.items()):\n",
    "        if len(poi_ids) < 3:\n",
    "            del trajectory_data[traj_id]\n",
    "\n",
    "    return trajectory_data\n",
    "\n",
    "trajectory_data = parse_data(file_path_mapping[\"CaliAdv\"])\n"
   ]
  },
  {
   "cell_type": "code",
   "execution_count": 9,
   "metadata": {},
   "outputs": [
    {
     "name": "stdout",
     "output_type": "stream",
     "text": [
      "Information for the first 10 trajectories:\n",
      "trajID: 2080, poiIDs: [17, 18, 12, 5]\n",
      "trajID: 2706, poiIDs: [17, 23, 16, 11, 7, 5]\n",
      "trajID: 57, poiIDs: [17, 7, 16, 5]\n",
      "trajID: 5728, poiIDs: [19, 1, 17, 16, 6]\n",
      "trajID: 33, poiIDs: [19, 7, 16, 23, 12, 24, 25, 4, 14, 6]\n",
      "trajID: 606, poiIDs: [19, 16, 11, 7, 18, 6]\n",
      "trajID: 888, poiIDs: [19, 7, 6]\n",
      "trajID: 2424, poiIDs: [19, 14, 6]\n",
      "trajID: 4070, poiIDs: [19, 14, 6]\n",
      "trajID: 3990, poiIDs: [19, 14, 16, 9, 8, 23, 10, 6]\n",
      "Total number of trajectories: 1475\n"
     ]
    }
   ],
   "source": [
    "print(\"Information for the first 10 trajectories:\")\n",
    "counter = 0\n",
    "for traj_id, poi_ids in trajectory_data.items():\n",
    "    print(f\"trajID: {traj_id}, poiIDs: {poi_ids}\")\n",
    "    counter += 1\n",
    "    if counter == 10:\n",
    "        break\n",
    "\n",
    "\n",
    "print(f\"Total number of trajectories: {len(trajectory_data)}\") \n"
   ]
  },
  {
   "cell_type": "code",
   "execution_count": null,
   "metadata": {},
   "outputs": [],
   "source": []
  }
 ],
 "metadata": {
  "kernelspec": {
   "display_name": "Python 3",
   "language": "python",
   "name": "python3"
  },
  "language_info": {
   "codemirror_mode": {
    "name": "ipython",
    "version": 3
   },
   "file_extension": ".py",
   "mimetype": "text/x-python",
   "name": "python",
   "nbconvert_exporter": "python",
   "pygments_lexer": "ipython3",
   "version": "3.10.7"
  },
  "orig_nbformat": 4
 },
 "nbformat": 4,
 "nbformat_minor": 2
}
