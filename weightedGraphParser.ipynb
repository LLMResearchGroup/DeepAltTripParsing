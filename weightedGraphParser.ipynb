{
 "cells": [
  {
   "cell_type": "code",
   "execution_count": 23,
   "metadata": {},
   "outputs": [],
   "source": [
    "import csv\n",
    "import networkx as nx\n",
    "import matplotlib.pyplot as plt\n",
    "\n",
    "file_path_mapping = {\n",
    "    \"CaliAdv\": \"Dataset\\\\traj-caliAdv.csv\",\n",
    "    \"DisHolly\": \"Dataset\\\\traj-disHolly.csv\",\n",
    "    \"Disland\": \"Dataset\\\\traj-disland.csv\",\n",
    "    \"Edin\": \"Dataset\\\\traj-Edin.csv\",\n",
    "    \"Epcot\": \"Dataset\\\\traj-epcot.csv\",\n",
    "    \"Glas\": \"Dataset\\\\traj-Glas.csv\",\n",
    "    \"MagicK\": \"Dataset\\\\traj-MagicK.csv\",\n",
    "    \"Melb\": \"Dataset\\\\traj-Melb.csv\",\n",
    "    \"Osak\": \"Dataset\\\\traj-Osak.csv\",\n",
    "    \"Toro\": \"Dataset\\\\traj-Toro.csv\"\n",
    "}\n",
    "\n",
    "def parse_data(pathname):\n",
    "    trajectory_data = {}\n",
    "\n",
    "    with open(pathname, 'r') as csvfile:\n",
    "        reader = csv.DictReader(csvfile)\n",
    "        \n",
    "        for row in reader:\n",
    "            traj_id = int(row['trajID'])\n",
    "            poi_id = int(row['poiID'])\n",
    "            \n",
    "            if traj_id not in trajectory_data:\n",
    "                trajectory_data[traj_id] = []\n",
    "            \n",
    "            trajectory_data[traj_id].append(poi_id)\n",
    "\n",
    "    for traj_id, poi_ids in list(trajectory_data.items()):\n",
    "        if len(poi_ids) < 3:\n",
    "            del trajectory_data[traj_id]\n",
    "\n",
    "    return trajectory_data"
   ]
  },
  {
   "cell_type": "code",
   "execution_count": 31,
   "metadata": {},
   "outputs": [],
   "source": [
    "trajectory_data = list(parse_data(file_path_mapping[\"DisHolly\"]).items())\n",
    "paths = [data[1] for data in trajectory_data]\n",
    "weightedG = nx.Graph()\n",
    "for path in paths:\n",
    "    for u, v in zip(path, path[1:]):\n",
    "        if weightedG.has_edge(u, v):\n",
    "            weightedG[u][v]['weight'] += 1\n",
    "        else:\n",
    "            weightedG.add_edge(u, v, weight=1)\n",
    "\n"
   ]
  },
  {
   "cell_type": "code",
   "execution_count": null,
   "metadata": {},
   "outputs": [],
   "source": [
    "import numpy as np\n",
    "from matplotlib.colors import LogNorm\n",
    "\n",
    "# Create a color map based on edge weights (more blue for smaller values, more red for larger values)\n",
    "edge_weights = [data['weight'] for _, _, data in weightedG.edges(data=True)]\n",
    "# Choose a colormap (e.g., RdYlBu) and set a logarithmic scale for colors\n",
    "cmap = plt.cm.Reds\n",
    "log_norm = LogNorm(min(edge_weights), max(edge_weights))\n",
    "\n",
    "# Create a list of colors based on the logarithmically normalized edge weights\n",
    "edge_colors = [cmap(log_norm(weight)) for weight in edge_weights]\n",
    "\n",
    "# Create a figure of size 50x50\n",
    "plt.figure(figsize=(50, 50), facecolor='k', edgecolor='w') \n",
    "\n",
    "# Draw the graph with edge colors\n",
    "pos = nx.spring_layout(weightedG)  # Adjust layout as needed\n",
    "nx.draw(weightedG, pos, edge_color=edge_colors, with_labels=True, node_size=1000, font_size=10, font_color='black')\n",
    "\n",
    "# Display the color bar\n",
    "sm = plt.cm.ScalarMappable(cmap=cmap, norm=norm)\n",
    "sm.set_array([])\n",
    "cbar = plt.colorbar(sm, label=\"Edge Weight (log scale)\")\n",
    "tick_vals = [10 ** i for i in range(int(np.log10(min(edge_weights))), int(np.log10(max(edge_weights))) + 1)]\n",
    "cbar.set_ticks(log_norm(tick_vals))\n",
    "cbar.set_ticklabels([f\"{val:.0f}\" for val in tick_vals])\n",
    "\n",
    "# Display the graph\n",
    "plt.show()"
   ]
  },
  {
   "cell_type": "code",
   "execution_count": 29,
   "metadata": {},
   "outputs": [],
   "source": [
    "# don't run\n",
    "def most_weighted_path(graph, source, destination):\n",
    "    # Find all simple paths between source and destination\n",
    "    all_paths = nx.all_simple_paths(graph, source=source, target=destination)\n",
    "    \n",
    "    # Calculate the weight of each path and find the maximum\n",
    "    max_weight = float('-inf')\n",
    "    max_weight_path = None\n",
    "    \n",
    "    for path in all_paths:\n",
    "        weight = sum(graph[path[i]][path[i+1]]['weight'] for i in range(len(path)-1))\n",
    "        if weight > max_weight:\n",
    "            max_weight = weight\n",
    "            max_weight_path = path\n",
    "    \n",
    "    return max_weight_path, max_weight"
   ]
  },
  {
   "cell_type": "code",
   "execution_count": null,
   "metadata": {},
   "outputs": [],
   "source": [
    "# don't run\n",
    "print(len(weightedG.nodes()))\n",
    "print(len(weightedG.edges()))\n",
    "\n",
    "max_weighted_path, max_weight = most_weighted_path(weightedG, 1, 2)\n",
    "print(\"Most Weighted Path:\", max_weighted_path)\n",
    "print(\"Max Weight:\", max_weight)"
   ]
  },
  {
   "cell_type": "code",
   "execution_count": null,
   "metadata": {},
   "outputs": [],
   "source": []
  }
 ],
 "metadata": {
  "kernelspec": {
   "display_name": "Python 3",
   "language": "python",
   "name": "python3"
  },
  "language_info": {
   "codemirror_mode": {
    "name": "ipython",
    "version": 3
   },
   "file_extension": ".py",
   "mimetype": "text/x-python",
   "name": "python",
   "nbconvert_exporter": "python",
   "pygments_lexer": "ipython3",
   "version": "3.10.7"
  },
  "orig_nbformat": 4
 },
 "nbformat": 4,
 "nbformat_minor": 2
}
